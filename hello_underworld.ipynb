print("hello underworld")
print("...says the devil!")
print("Mahlzeit")
print("MAHLZEIT")
