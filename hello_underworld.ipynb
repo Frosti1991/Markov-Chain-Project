print("hello underworld")
print("...says the devil!")
print("Mahlzeit")
print("noch mehr Mahlzeit")
