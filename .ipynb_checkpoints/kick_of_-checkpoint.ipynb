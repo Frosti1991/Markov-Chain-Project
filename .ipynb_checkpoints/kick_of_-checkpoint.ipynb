{
 "cells": [
  {
   "cell_type": "code",
   "execution_count": 29,
   "id": "d8a4bd4d",
   "metadata": {},
   "outputs": [],
   "source": [
    "import pandas as pd\n",
    "\n",
    "class Supermarket:\n",
    "    \"\"\"description\"\"\"\n",
    "    \n",
    "    locations = ['spices','dairy','drinks','fruit','checkout','entry'] \n",
    "    \n",
    "    def __init__(self, opening_time = 7, closing_time = 22, locations = locations):\n",
    "        self.opening_time   = opening_time\n",
    "        self.closing_time   = closing_time\n",
    "        self.locations      = locations\n",
    "        #self.numb_customers = numb_customers\n",
    "        self.time           = 10 # time\n",
    "        self.customer_list  = []\n",
    "        self.last_id        = 1\n",
    "\n",
    "    def add_customer(self):\n",
    "        customer = Customer(id_ = self.last_id)\n",
    "        self.customer_list.append(customer.id_)\n",
    "        self.last_id += 1\n",
    "        return self.customer_list\n",
    "    \n",
    "    def simulation(self):\n",
    "        while self.time < self.closing_time:\n",
    "            self.time += 1\n",
    "            self.customer_list = self.add_customer()\n",
    "        print(self.customer_list)\n",
    "\n",
    "    def __repr__(self):\n",
    "        return f\"Customer #. {self.customer_list}\""
   ]
  },
  {
   "cell_type": "code",
   "execution_count": 30,
   "id": "4af47694",
   "metadata": {},
   "outputs": [
    {
     "data": {
      "text/plain": [
       "'  \\n    \\n    def list_of_ailes(initial_location):\\n    \"\"\"\\n    Function that adds a state to a list\\n    \"\"\"\\n    location_list  = [initial_location]\\n    current_state  = initial_location\\n    \\n    while state != \\'checkout\\':\\n        probs = transition_matrix[state]\\n        state = choices(STATES, probs)[0]\\n        list_.append(state)\\n        if list_[-1] == \\'crashed\\':\\n            return list_\\n'"
      ]
     },
     "execution_count": 30,
     "metadata": {},
     "output_type": "execute_result"
    }
   ],
   "source": [
    "\n",
    "class Customer:\n",
    "    \"\"\"description\"\"\"\n",
    "    def __init__(self, id_):\n",
    "        self.id_    = id_\n",
    "        # self.state  = state\n",
    "        \n",
    "    \n",
    "'''  \n",
    "    \n",
    "    def list_of_ailes(initial_location):\n",
    "    \"\"\"\n",
    "    Function that adds a state to a list\n",
    "    \"\"\"\n",
    "    location_list  = [initial_location]\n",
    "    current_state  = initial_location\n",
    "    \n",
    "    while state != 'checkout':\n",
    "        probs = transition_matrix[state]\n",
    "        state = choices(STATES, probs)[0]\n",
    "        list_.append(state)\n",
    "        if list_[-1] == 'crashed':\n",
    "            return list_\n",
    "'''"
   ]
  },
  {
   "cell_type": "code",
   "execution_count": 31,
   "id": "d44537a5",
   "metadata": {},
   "outputs": [
    {
     "name": "stdout",
     "output_type": "stream",
     "text": [
      "[1, 2, 3, 4, 5, 6, 7, 8, 9, 10, 11, 12]\n"
     ]
    }
   ],
   "source": [
    "lidl = Supermarket()\n",
    "# lidl.last_id\n",
    "lidl.simulation()"
   ]
  },
  {
   "cell_type": "code",
   "execution_count": 32,
   "id": "98a385be",
   "metadata": {},
   "outputs": [
    {
     "data": {
      "text/plain": [
       "[1, 2, 3, 4, 5, 6, 7, 8, 9, 10, 11, 12]"
      ]
     },
     "execution_count": 32,
     "metadata": {},
     "output_type": "execute_result"
    }
   ],
   "source": [
    "lidl.customer_list"
   ]
  },
  {
   "cell_type": "code",
   "execution_count": 2,
   "id": "22bae6d7",
   "metadata": {},
   "outputs": [],
   "source": [
    "markovia = Supermarket(7,22,['drinks','beer','booze'])"
   ]
  },
  {
   "cell_type": "code",
   "execution_count": 3,
   "id": "20035341",
   "metadata": {},
   "outputs": [
    {
     "data": {
      "text/plain": [
       "7"
      ]
     },
     "execution_count": 3,
     "metadata": {},
     "output_type": "execute_result"
    }
   ],
   "source": [
    "markovia.opening_time"
   ]
  },
  {
   "cell_type": "code",
   "execution_count": null,
   "id": "86913c9f",
   "metadata": {},
   "outputs": [],
   "source": [
    "def list_of_states(startstate):\n",
    "    \"\"\"\n",
    "    Function that adds a state to a list\n",
    "    \"\"\"\n",
    "    list_ = [startstate]\n",
    "    state = startstate\n",
    "    while state != 'crashed':\n",
    "        probs = PROBABILITIES[state]\n",
    "        state = choices(STATES, probs)[0]\n",
    "        list_.append(state)\n",
    "        if list_[-1] == 'crashed':\n",
    "            return list_"
   ]
  },
  {
   "cell_type": "code",
   "execution_count": null,
   "id": "35045cd2",
   "metadata": {},
   "outputs": [],
   "source": [
    "    time_series(time):\n",
    "        d = (closing_time - opening_time)*60\n",
    "        for i in d:\n",
    "            list...append astype(datatime)\n",
    "    # def average_num_customers(csv_file):\n",
    "        # df = pd.read_csv(csv_file)\n",
    "        # return avg_num"
   ]
  }
 ],
 "metadata": {
  "kernelspec": {
   "display_name": "Python 3 (ipykernel)",
   "language": "python",
   "name": "python3"
  },
  "language_info": {
   "codemirror_mode": {
    "name": "ipython",
    "version": 3
   },
   "file_extension": ".py",
   "mimetype": "text/x-python",
   "name": "python",
   "nbconvert_exporter": "python",
   "pygments_lexer": "ipython3",
   "version": "3.9.12"
  }
 },
 "nbformat": 4,
 "nbformat_minor": 5
}
