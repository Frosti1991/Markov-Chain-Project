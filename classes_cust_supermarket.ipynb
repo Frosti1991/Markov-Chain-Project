{
 "cells": [
  {
   "cell_type": "code",
   "execution_count": null,
   "id": "418552de",
   "metadata": {},
   "outputs": [],
   "source": [
    "import numpy as np\n",
    "\n",
    "class Customer:\n",
    "    def __init__(self, cust_number=1):\n",
    "        '''\n",
    "        create a list with length = parameter1 and fill this list with ascending customer numbers.\n",
    "        entry time of customer is restriced by opening hours of the supermarket (7am - 10pm).\n",
    "        checkout time of customer is restricted by closing time of supermarket.\n",
    "        random walk gives as output:\n",
    "            location1 | locat\n",
    "            \n",
    "        \n",
    "        Parameters\n",
    "        ----------------------------\n",
    "            param1\n",
    "                The first parameter.\n",
    "            param2\n",
    "                The second parameter.\n",
    "\n",
    "        Returns\n",
    "         ----------------------------\n",
    "            int\n",
    "                positive ascending and unique number of integers\n",
    "        '''\n",
    "        self.customer = cust_number\n",
    "        self.entry_time = 0\n",
    "        self.checkout_time = 0\n",
    "    \n",
    "    def __str__ (self):\n",
    "        return f\"This is customer number {self.cust_number} for the simulation.\"\n",
    "    \n",
    "    def entry_time(self):\n",
    "        self."
   ]
  },
  {
   "cell_type": "code",
   "execution_count": null,
   "id": "7ad9892e",
   "metadata": {},
   "outputs": [],
   "source": []
  }
 ],
 "metadata": {
  "kernelspec": {
   "display_name": "Python 3 (ipykernel)",
   "language": "python",
   "name": "python3"
  },
  "language_info": {
   "codemirror_mode": {
    "name": "ipython",
    "version": 3
   },
   "file_extension": ".py",
   "mimetype": "text/x-python",
   "name": "python",
   "nbconvert_exporter": "python",
   "pygments_lexer": "ipython3",
   "version": "3.9.12"
  }
 },
 "nbformat": 4,
 "nbformat_minor": 5
}
