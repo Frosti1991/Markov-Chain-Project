{
 "cells": [
  {
   "cell_type": "code",
   "execution_count": 29,
   "metadata": {},
   "outputs": [],
   "source": [
    "import pandas as pd\n",
    "\n",
    "class Supermarket:\n",
    "    \"\"\"description\"\"\"\n",
    "    \n",
    "    locations = ['spices','dairy','drinks','fruit','checkout','entry'] \n",
    "    \n",
    "    def __init__(self, opening_time = 7, closing_time = 22, locations = locations):\n",
    "        self.opening_time   = opening_time\n",
    "        self.closing_time   = closing_time\n",
    "        self.locations      = locations\n",
    "        #self.numb_customers = numb_customers\n",
    "        self.time           = 10 # time\n",
    "        self.customer_list  = []\n",
    "        self.last_id        = 1\n",
    "\n",
    "    def add_customer(self):\n",
    "        customer = Customer(id_ = self.last_id)\n",
    "        self.customer_list.append(customer.id_)\n",
    "        self.last_id += 1\n",
    "        return self.customer_list\n",
    "    \n",
    "    def simulation(self):\n",
    "        while self.time < self.closing_time:\n",
    "            self.time += 1\n",
    "            self.customer_list = self.add_customer()\n",
    "        print(self.customer_list)\n",
    "\n",
    "    def __repr__(self):\n",
    "        return f\"Customer #. {self.customer_list}\""
   ]
  },
  {
   "cell_type": "code",
   "execution_count": 30,
   "metadata": {},
   "outputs": [
    {
     "data": {
      "text/plain": [
       "'  \\n    \\n    def list_of_ailes(initial_location):\\n    \"\"\"\\n    Function that adds a state to a list\\n    \"\"\"\\n    location_list  = [initial_location]\\n    current_state  = initial_location\\n    \\n    while state != \\'checkout\\':\\n        probs = transition_matrix[state]\\n        state = choices(STATES, probs)[0]\\n        list_.append(state)\\n        if list_[-1] == \\'crashed\\':\\n            return list_\\n'"
      ]
     },
     "execution_count": 30,
     "metadata": {},
     "output_type": "execute_result"
    }
   ],
   "source": [
    "\n",
    "class Customer:\n",
    "    \"\"\"description\"\"\"\n",
    "\n",
    "    def __init__(self, id_):\n",
    "        self.id_              = id_\n",
    "        self.initial_location = [0, 0, 0, 1, 0, 0]                              ## Or taking the labelvector of the transition-prop_matrix import, setting every elemt to 0, setting \"entry\"-element to 1 ## pro: no need to change code if transition-prop_matrix changes \n",
    "        self.random_walk      = pd.DataFrame()\n",
    "        # self.state  = state\n",
    "\n",
    "    def list_of_locations(self, initial_location=self.initial_location):\n",
    "        \"\"\"Function that adds location(s) to the random-walk-list of a customer\"\"\"\n",
    "        \n",
    "        from random import choices\n",
    "\n",
    "        transition_matrix = pd.read_csv(\"transition_matrix.csv\")\n",
    "        transition_matrix.set_index(transition_matrix.columns, inplace=True)    ## Mirroring the colum-names into the index, because transition_matrix.csv has only column-names and no index-labels. Index label is needed to choose the row of probabilities in while-loop for 'probs'\n",
    "\n",
    "        locations = transition_matrix.columns                                   ## (1/2) list of locations can also be taken from supermarket attribut\n",
    "        current_location  = initial_location\n",
    "\n",
    "        while current_location != \"checkout\":\n",
    "            probs = transition_matrix.loc[current_location]                     ## the row of probabilities is taken out of transition probability matrix for the 'choices' function to work\n",
    "            current_location = choices(locations, probs)[0]                     ## (2/2) list of locations can also be taken from supermarket attribut  ## [0], so that we dont get a list back, but just a string -> so that we don't append a list into self.random_walk, which is a list already\n",
    "\n",
    "            current_location_df = pd.DataFrame({\"time\": Supermarket.time, \"customer_id\": self.id_, \"location\": current_location})\n",
    "            self.random_walk = pd.concat([current_location_df, self.random_walk])\n"
   ]
  },
  {
   "cell_type": "code",
   "execution_count": 31,
   "metadata": {},
   "outputs": [
    {
     "name": "stdout",
     "output_type": "stream",
     "text": [
      "[1, 2, 3, 4, 5, 6, 7, 8, 9, 10, 11, 12]\n"
     ]
    }
   ],
   "source": [
    "lidl = Supermarket()\n",
    "# lidl.last_id\n",
    "lidl.simulation()"
   ]
  },
  {
   "cell_type": "code",
   "execution_count": 32,
   "metadata": {},
   "outputs": [
    {
     "data": {
      "text/plain": [
       "[1, 2, 3, 4, 5, 6, 7, 8, 9, 10, 11, 12]"
      ]
     },
     "execution_count": 32,
     "metadata": {},
     "output_type": "execute_result"
    }
   ],
   "source": [
    "lidl.customer_list"
   ]
  },
  {
   "cell_type": "code",
   "execution_count": 2,
   "metadata": {},
   "outputs": [],
   "source": [
    "markovia = Supermarket(7,22,['drinks','beer','booze'])"
   ]
  },
  {
   "cell_type": "code",
   "execution_count": 3,
   "metadata": {},
   "outputs": [
    {
     "data": {
      "text/plain": [
       "7"
      ]
     },
     "execution_count": 3,
     "metadata": {},
     "output_type": "execute_result"
    }
   ],
   "source": [
    "markovia.opening_time"
   ]
  },
  {
   "cell_type": "code",
   "execution_count": null,
   "metadata": {},
   "outputs": [],
   "source": [
    "def list_of_states(startstate):\n",
    "    \"\"\"\n",
    "    Function that adds a state to a list\n",
    "    \"\"\"\n",
    "    list_ = [startstate]\n",
    "    state = startstate\n",
    "    while state != 'crashed':\n",
    "        probs = PROBABILITIES[state]\n",
    "        state = choices(STATES, probs)[0]\n",
    "        list_.append(state)\n",
    "        if list_[-1] == 'crashed':\n",
    "            return list_"
   ]
  },
  {
   "cell_type": "code",
   "execution_count": null,
   "metadata": {},
   "outputs": [],
   "source": [
    "    time_series(time):\n",
    "        d = (closing_time - opening_time)*60\n",
    "        for i in d:\n",
    "            list...append astype(datatime)\n",
    "    # def average_num_customers(csv_file):\n",
    "        # df = pd.read_csv(csv_file)\n",
    "        # return avg_num"
   ]
  }
 ],
 "metadata": {
  "kernelspec": {
   "display_name": "Python 3",
   "language": "python",
   "name": "python3"
  },
  "language_info": {
   "codemirror_mode": {
    "name": "ipython",
    "version": 3
   },
   "file_extension": ".py",
   "mimetype": "text/x-python",
   "name": "python",
   "nbconvert_exporter": "python",
   "pygments_lexer": "ipython3",
   "version": "3.7.6"
  },
  "vscode": {
   "interpreter": {
    "hash": "a05f93782d31fb45d30263a0389582a01d7e14abf3ec6aacde92652303ee35ce"
   }
  }
 },
 "nbformat": 4,
 "nbformat_minor": 5
}
